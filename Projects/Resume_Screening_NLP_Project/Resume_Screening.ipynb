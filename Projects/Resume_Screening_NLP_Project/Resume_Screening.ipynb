{
 "cells": [
  {
   "cell_type": "code",
   "execution_count": null,
   "id": "6bda37ae-8757-46e5-bed2-ba387ebff26f",
   "metadata": {},
   "outputs": [],
   "source": [
    "pip install pyspellchecker"
   ]
  },
  {
   "cell_type": "code",
   "execution_count": 1,
   "id": "3cf71db0-b33b-49df-8025-6884a5a3a190",
   "metadata": {},
   "outputs": [
    {
     "data": {
      "text/plain": [
       "'\\nauthor : @akahs\\n'"
      ]
     },
     "execution_count": 1,
     "metadata": {},
     "output_type": "execute_result"
    }
   ],
   "source": [
    "\"\"\"\n",
    "author : @akahs\n",
    "\"\"\""
   ]
  },
  {
   "cell_type": "code",
   "execution_count": 1,
   "id": "0d5869da-3ad2-4a55-b3c0-37bef8fa9918",
   "metadata": {},
   "outputs": [],
   "source": [
    "import pandas as pd\n",
    "import numpy as np\n",
    "import matplotlib.pyplot as plt\n",
    "import seaborn as sns"
   ]
  },
  {
   "cell_type": "code",
   "execution_count": 2,
   "id": "d2a908fa-07c8-4236-b900-c42180dd95de",
   "metadata": {},
   "outputs": [],
   "source": [
    "df=pd.read_csv(\"UpdatedResumeDataSet.csv\")"
   ]
  },
  {
   "cell_type": "code",
   "execution_count": 3,
   "id": "77b0ebdb-15e4-4bd5-90e3-45ba66d26e99",
   "metadata": {},
   "outputs": [
    {
     "data": {
      "text/plain": [
       "(962, 2)"
      ]
     },
     "execution_count": 3,
     "metadata": {},
     "output_type": "execute_result"
    }
   ],
   "source": [
    "#data analysis step\n",
    "df.shape"
   ]
  },
  {
   "cell_type": "code",
   "execution_count": 4,
   "id": "e0367f4c-785d-410a-8419-e3d19e09cdf3",
   "metadata": {},
   "outputs": [
    {
     "data": {
      "text/html": [
       "<div>\n",
       "<style scoped>\n",
       "    .dataframe tbody tr th:only-of-type {\n",
       "        vertical-align: middle;\n",
       "    }\n",
       "\n",
       "    .dataframe tbody tr th {\n",
       "        vertical-align: top;\n",
       "    }\n",
       "\n",
       "    .dataframe thead th {\n",
       "        text-align: right;\n",
       "    }\n",
       "</style>\n",
       "<table border=\"1\" class=\"dataframe\">\n",
       "  <thead>\n",
       "    <tr style=\"text-align: right;\">\n",
       "      <th></th>\n",
       "      <th>Category</th>\n",
       "      <th>Resume</th>\n",
       "    </tr>\n",
       "  </thead>\n",
       "  <tbody>\n",
       "    <tr>\n",
       "      <th>0</th>\n",
       "      <td>Data Science</td>\n",
       "      <td>Skills * Programming Languages: Python (pandas...</td>\n",
       "    </tr>\n",
       "    <tr>\n",
       "      <th>1</th>\n",
       "      <td>Data Science</td>\n",
       "      <td>Education Details \\r\\nMay 2013 to May 2017 B.E...</td>\n",
       "    </tr>\n",
       "    <tr>\n",
       "      <th>2</th>\n",
       "      <td>Data Science</td>\n",
       "      <td>Areas of Interest Deep Learning, Control Syste...</td>\n",
       "    </tr>\n",
       "    <tr>\n",
       "      <th>3</th>\n",
       "      <td>Data Science</td>\n",
       "      <td>Skills â¢ R â¢ Python â¢ SAP HANA â¢ Table...</td>\n",
       "    </tr>\n",
       "    <tr>\n",
       "      <th>4</th>\n",
       "      <td>Data Science</td>\n",
       "      <td>Education Details \\r\\n MCA   YMCAUST,  Faridab...</td>\n",
       "    </tr>\n",
       "  </tbody>\n",
       "</table>\n",
       "</div>"
      ],
      "text/plain": [
       "       Category                                             Resume\n",
       "0  Data Science  Skills * Programming Languages: Python (pandas...\n",
       "1  Data Science  Education Details \\r\\nMay 2013 to May 2017 B.E...\n",
       "2  Data Science  Areas of Interest Deep Learning, Control Syste...\n",
       "3  Data Science  Skills â¢ R â¢ Python â¢ SAP HANA â¢ Table...\n",
       "4  Data Science  Education Details \\r\\n MCA   YMCAUST,  Faridab..."
      ]
     },
     "execution_count": 4,
     "metadata": {},
     "output_type": "execute_result"
    }
   ],
   "source": [
    "df.head(5)"
   ]
  },
  {
   "cell_type": "code",
   "execution_count": null,
   "id": "8b30b39f-83d0-490d-93d5-96c488992a48",
   "metadata": {},
   "outputs": [],
   "source": []
  },
  {
   "cell_type": "code",
   "execution_count": 5,
   "id": "d2a1df1e-ccd1-4d04-a3a6-6d33526d5c8e",
   "metadata": {},
   "outputs": [
    {
     "data": {
      "text/plain": [
       "Index(['Category', 'Resume'], dtype='object')"
      ]
     },
     "execution_count": 5,
     "metadata": {},
     "output_type": "execute_result"
    }
   ],
   "source": [
    "df.columns"
   ]
  },
  {
   "cell_type": "code",
   "execution_count": 6,
   "id": "0b5b8c15-add1-49b3-8832-d0a833d7e895",
   "metadata": {},
   "outputs": [
    {
     "data": {
      "text/plain": [
       "Category    0\n",
       "Resume      0\n",
       "dtype: int64"
      ]
     },
     "execution_count": 6,
     "metadata": {},
     "output_type": "execute_result"
    }
   ],
   "source": [
    "df.isnull().sum()"
   ]
  },
  {
   "cell_type": "code",
   "execution_count": 7,
   "id": "65b371c2-234f-4298-9fb1-62f266eff1a2",
   "metadata": {},
   "outputs": [
    {
     "data": {
      "text/html": [
       "<div>\n",
       "<style scoped>\n",
       "    .dataframe tbody tr th:only-of-type {\n",
       "        vertical-align: middle;\n",
       "    }\n",
       "\n",
       "    .dataframe tbody tr th {\n",
       "        vertical-align: top;\n",
       "    }\n",
       "\n",
       "    .dataframe thead th {\n",
       "        text-align: right;\n",
       "    }\n",
       "</style>\n",
       "<table border=\"1\" class=\"dataframe\">\n",
       "  <thead>\n",
       "    <tr style=\"text-align: right;\">\n",
       "      <th></th>\n",
       "      <th>Category</th>\n",
       "      <th>Resume</th>\n",
       "    </tr>\n",
       "  </thead>\n",
       "  <tbody>\n",
       "    <tr>\n",
       "      <th>count</th>\n",
       "      <td>962</td>\n",
       "      <td>962</td>\n",
       "    </tr>\n",
       "    <tr>\n",
       "      <th>unique</th>\n",
       "      <td>25</td>\n",
       "      <td>166</td>\n",
       "    </tr>\n",
       "    <tr>\n",
       "      <th>top</th>\n",
       "      <td>Java Developer</td>\n",
       "      <td>Technical Skills Web Technologies: Angular JS,...</td>\n",
       "    </tr>\n",
       "    <tr>\n",
       "      <th>freq</th>\n",
       "      <td>84</td>\n",
       "      <td>18</td>\n",
       "    </tr>\n",
       "  </tbody>\n",
       "</table>\n",
       "</div>"
      ],
      "text/plain": [
       "              Category                                             Resume\n",
       "count              962                                                962\n",
       "unique              25                                                166\n",
       "top     Java Developer  Technical Skills Web Technologies: Angular JS,...\n",
       "freq                84                                                 18"
      ]
     },
     "execution_count": 7,
     "metadata": {},
     "output_type": "execute_result"
    }
   ],
   "source": [
    "df.describe()"
   ]
  },
  {
   "cell_type": "code",
   "execution_count": 8,
   "id": "ee32369e-1f95-4c76-9923-67e086d2ca6a",
   "metadata": {},
   "outputs": [
    {
     "data": {
      "text/plain": [
       "(962, 2)"
      ]
     },
     "execution_count": 8,
     "metadata": {},
     "output_type": "execute_result"
    }
   ],
   "source": [
    "df.shape"
   ]
  },
  {
   "cell_type": "code",
   "execution_count": 9,
   "id": "966b85bd-d2b4-48a9-847e-b8b9f2f2fad9",
   "metadata": {},
   "outputs": [
    {
     "data": {
      "text/plain": [
       "Category\n",
       "Java Developer               84\n",
       "Testing                      70\n",
       "DevOps Engineer              55\n",
       "Python Developer             48\n",
       "Web Designing                45\n",
       "HR                           44\n",
       "Hadoop                       42\n",
       "Sales                        40\n",
       "Data Science                 40\n",
       "Mechanical Engineer          40\n",
       "ETL Developer                40\n",
       "Blockchain                   40\n",
       "Operations Manager           40\n",
       "Arts                         36\n",
       "Database                     33\n",
       "Health and fitness           30\n",
       "PMO                          30\n",
       "Electrical Engineering       30\n",
       "Business Analyst             28\n",
       "DotNet Developer             28\n",
       "Automation Testing           26\n",
       "Network Security Engineer    25\n",
       "Civil Engineer               24\n",
       "SAP Developer                24\n",
       "Advocate                     20\n",
       "Name: count, dtype: int64"
      ]
     },
     "execution_count": 9,
     "metadata": {},
     "output_type": "execute_result"
    }
   ],
   "source": [
    "df['Category'].value_counts()"
   ]
  },
  {
   "cell_type": "code",
   "execution_count": 10,
   "id": "6da08f89-a8f2-4dc1-9841-53b956a11eb3",
   "metadata": {},
   "outputs": [
    {
     "data": {
      "text/plain": [
       "<Axes: xlabel='count', ylabel='Category'>"
      ]
     },
     "execution_count": 10,
     "metadata": {},
     "output_type": "execute_result"
    },
    {
     "data": {
      "image/png": "[encoded data removed]",
      "text/plain": [
       "<Figure size 640x480 with 1 Axes>"
      ]
     },
     "metadata": {},
     "output_type": "display_data"
    }
   ],
   "source": [
    "sns.countplot(df['Category'])"
   ]
  },
  {
   "cell_type": "code",
   "execution_count": 11,
   "id": "cf3be6ed-0c8f-482a-95ed-43b3e58d07e3",
   "metadata": {},
   "outputs": [
    {
     "data": {
      "image/png": "[encoded data removed]",
      "text/plain": [
       "<Figure size 640x480 with 1 Axes>"
      ]
     },
     "metadata": {},
     "output_type": "display_data"
    }
   ],
   "source": [
    "\n",
    "labels=df['Category'].unique()\n",
    "plt.pie(df['Category'].value_counts(),labels=labels)\n",
    "plt.show()"
   ]
  },
  {
   "cell_type": "code",
   "execution_count": 12,
   "id": "3b9f9b5c-36a1-4584-b011-1f102cfe2599",
   "metadata": {},
   "outputs": [
    {
     "data": {
      "text/plain": [
       "Category\n",
       "Java Developer               84\n",
       "Testing                      70\n",
       "DevOps Engineer              55\n",
       "Python Developer             48\n",
       "Web Designing                45\n",
       "HR                           44\n",
       "Hadoop                       42\n",
       "Sales                        40\n",
       "Data Science                 40\n",
       "Mechanical Engineer          40\n",
       "ETL Developer                40\n",
       "Blockchain                   40\n",
       "Operations Manager           40\n",
       "Arts                         36\n",
       "Database                     33\n",
       "Health and fitness           30\n",
       "PMO                          30\n",
       "Electrical Engineering       30\n",
       "Business Analyst             28\n",
       "DotNet Developer             28\n",
       "Automation Testing           26\n",
       "Network Security Engineer    25\n",
       "Civil Engineer               24\n",
       "SAP Developer                24\n",
       "Advocate                     20\n",
       "Name: count, dtype: int64"
      ]
     },
     "execution_count": 12,
     "metadata": {},
     "output_type": "execute_result"
    }
   ],
   "source": [
    "#now perform data preprocessing step\n",
    "\n",
    "df['Category'].value_counts()"
   ]
  },
  {
   "cell_type": "code",
   "execution_count": 13,
   "id": "d31ba21c-5e0e-4fa8-95b8-ffea1ef9fe0c",
   "metadata": {},
   "outputs": [],
   "source": [
    "#df['Resume'][0]"
   ]
  },
  {
   "cell_type": "code",
   "execution_count": 14,
   "id": "27c68115-c09b-469e-9885-7293a80ef581",
   "metadata": {},
   "outputs": [
    {
     "data": {
      "text/plain": [
       "'\\ntext data preprocessing common steps:\\n\\n1) convert into lowercase\\n2) remove html tag\\n3) remove URLs\\n4) remove puncuation (!,,? ., etc)\\n5) removing special char\\n6) chat word treatment (like FYI for your inforamtion etc)\\n7) spelling correction\\n8) stop words removing (like at, the , of, in, etc)\\n9) handle emojies\\n10) tokenization\\n\\nadvanced preprocessing \\n1) stremming \\n2) lemmatization\\n3) pos-tag\\n\\n'"
      ]
     },
     "execution_count": 14,
     "metadata": {},
     "output_type": "execute_result"
    }
   ],
   "source": [
    "\"\"\"\n",
    "text data preprocessing common steps:\n",
    "\n",
    "1) convert into lowercase\n",
    "2) remove html tag\n",
    "3) remove URLs\n",
    "4) remove puncuation (!,,? ., etc)\n",
    "5) removing special char\n",
    "6) chat word treatment (like FYI for your inforamtion etc)\n",
    "7) spelling correction\n",
    "8) stop words removing (like at, the , of, in, etc)\n",
    "9) handle emojies\n",
    "10) tokenization\n",
    "\n",
    "advanced preprocessing \n",
    "1) stremming \n",
    "2) lemmatization\n",
    "3) pos-tag\n",
    "\n",
    "\"\"\""
   ]
  },
  {
   "cell_type": "code",
   "execution_count": 15,
   "id": "078b9442-be1c-438a-ba80-5817a4519f76",
   "metadata": {},
   "outputs": [
    {
     "name": "stderr",
     "output_type": "stream",
     "text": [
      "[nltk_data] Downloading package punkt_tab to\n",
      "[nltk_data]     /home/u911ea9076426f747fe4b87b316beb42/nltk_data...\n",
      "[nltk_data]   Package punkt_tab is already up-to-date!\n"
     ]
    }
   ],
   "source": [
    "#text clean preprocessing step-------------\n",
    "\n",
    "import re\n",
    "import string\n",
    "import html\n",
    "from nltk.corpus import stopwords\n",
    "from nltk.tokenize import word_tokenize\n",
    "from textblob import TextBlob\n",
    "from spellchecker import SpellChecker\n",
    "import emoji\n",
    "import nltk\n",
    "nltk.download('punkt_tab')\n",
    "\n",
    "\n",
    "import re\n",
    "import string \n",
    "def preprocess_text(text):\n",
    "    # Convert text to lowercase\n",
    "    text = text.lower()\n",
    "    \n",
    "    # Remove URLs\n",
    "    text = re.sub(r'http\\S+', '', text)\n",
    "    \n",
    "    # Remove hashtags\n",
    "    text = re.sub(r'#\\w+', '', text)\n",
    "    \n",
    "    # Remove special characters\n",
    "    text = re.sub('[^A-Za-z0-9\\s]+', '', text)\n",
    "    \n",
    "    # Remove punctuation\n",
    "    text = re.sub('[%s]' % re.escape(string.punctuation), '', text)\n",
    "\n",
    "    # Remove newline characters, carriage return characters, and other special characters\n",
    "    text = re.sub(r'[\\n\\r\\t]', ' ', text)\n",
    "    text = re.sub(r'[^\\w\\s]', '', text)\n",
    "    \n",
    "    \n",
    "    return text\n"
   ]
  },
  {
   "cell_type": "code",
   "execution_count": 16,
   "id": "dbf64997-9e23-438e-9413-1dc650f6f6c8",
   "metadata": {},
   "outputs": [],
   "source": [
    "df['Resume']=df['Resume'].apply(lambda x: preprocess_text(x))"
   ]
  },
  {
   "cell_type": "code",
   "execution_count": 17,
   "id": "a2b88558-4a6d-46b0-bfb2-b46e17b2870e",
   "metadata": {},
   "outputs": [
    {
     "data": {
      "text/plain": [
       "array(['Data Science', 'HR', 'Advocate', 'Arts', 'Web Designing',\n",
       "       'Mechanical Engineer', 'Sales', 'Health and fitness',\n",
       "       'Civil Engineer', 'Java Developer', 'Business Analyst',\n",
       "       'SAP Developer', 'Automation Testing', 'Electrical Engineering',\n",
       "       'Operations Manager', 'Python Developer', 'DevOps Engineer',\n",
       "       'Network Security Engineer', 'PMO', 'Database', 'Hadoop',\n",
       "       'ETL Developer', 'DotNet Developer', 'Blockchain', 'Testing'],\n",
       "      dtype=object)"
      ]
     },
     "execution_count": 17,
     "metadata": {},
     "output_type": "execute_result"
    }
   ],
   "source": [
    "df['Category'].unique()"
   ]
  },
  {
   "cell_type": "code",
   "execution_count": 18,
   "id": "132cbd57-0858-4881-97e8-46c90972007e",
   "metadata": {},
   "outputs": [],
   "source": [
    "###now data is cleaned  and now i w"
   ]
  },
  {
   "cell_type": "code",
   "execution_count": 19,
   "id": "776c3b68-8348-49e4-9130-e60662dc4db0",
   "metadata": {},
   "outputs": [],
   "source": [
    "from sklearn.preprocessing import LabelEncoder\n",
    "le=LabelEncoder()"
   ]
  },
  {
   "cell_type": "code",
   "execution_count": 20,
   "id": "555e1207-221e-4283-b005-d615715a9914",
   "metadata": {},
   "outputs": [],
   "source": [
    "le.fit(df['Category'])\n",
    "df['Category']=le.transform(df['Category'])"
   ]
  },
  {
   "cell_type": "code",
   "execution_count": 21,
   "id": "c1b8a22a-e715-4b0f-b46a-97f403890499",
   "metadata": {},
   "outputs": [
    {
     "data": {
      "text/plain": [
       "array([ 6, 12,  0,  1, 24, 16, 22, 14,  5, 15,  4, 21,  2, 11, 18, 20,  8,\n",
       "       17, 19,  7, 13, 10,  9,  3, 23])"
      ]
     },
     "execution_count": 21,
     "metadata": {},
     "output_type": "execute_result"
    }
   ],
   "source": [
    "df['Category'].unique()"
   ]
  },
  {
   "cell_type": "code",
   "execution_count": 22,
   "id": "6d9fe095-aa9d-405d-b7c2-7e0a3a1795fd",
   "metadata": {},
   "outputs": [],
   "source": [
    "from sklearn.feature_extraction.text import TfidfVectorizer\n",
    "tfidf=TfidfVectorizer()\n",
    "\n",
    "tfidf.fit(df['Resume'])\n",
    "vector=tfidf.transform(df['Resume'])"
   ]
  },
  {
   "cell_type": "code",
   "execution_count": 23,
   "id": "d506ac75-1e3b-417a-9502-d7adc7f42e62",
   "metadata": {},
   "outputs": [
    {
     "data": {
      "text/plain": [
       "<Compressed Sparse Row sparse matrix of dtype 'float64'\n",
       "\twith 186852 stored elements and shape (962, 8104)>"
      ]
     },
     "execution_count": 23,
     "metadata": {},
     "output_type": "execute_result"
    }
   ],
   "source": [
    "vector"
   ]
  },
  {
   "cell_type": "code",
   "execution_count": 24,
   "id": "9ade7d08-6d28-4fd2-b44d-fca4a69d6799",
   "metadata": {},
   "outputs": [],
   "source": [
    "#split the data\n",
    "\n",
    "from sklearn.model_selection import train_test_split\n",
    "X_train,X_test,y_train,y_test=train_test_split(vector,df['Category'],test_size=0.2,random_state=42)"
   ]
  },
  {
   "cell_type": "code",
   "execution_count": 28,
   "id": "0b3a9d0c-30f7-4e84-afb2-2ddaf939ef39",
   "metadata": {},
   "outputs": [
    {
     "name": "stdout",
     "output_type": "stream",
     "text": [
      "Accuracy for KNN: 0.9844559585492227\n",
      "Accuracy for Random Forest: 0.9896373056994818\n",
      "Accuracy for SVM: 0.9948186528497409\n",
      "Accuracy for Logistic Regression: 0.9948186528497409\n"
     ]
    }
   ],
   "source": [
    "#now train the model\n",
    "\n",
    "from sklearn.neighbors import KNeighborsClassifier\n",
    "from sklearn.ensemble import RandomForestClassifier\n",
    "from sklearn.svm import SVC\n",
    "from sklearn.linear_model import LogisticRegression\n",
    "from sklearn.metrics import accuracy_score,confusion_matrix\n",
    "\n",
    "# Initialize classifiers\n",
    "classifiers = {\n",
    "    'KNN': KNeighborsClassifier(),\n",
    "    'Random Forest': RandomForestClassifier(),\n",
    "    'SVM': SVC(),\n",
    "    'Logistic Regression': LogisticRegression()\n",
    "}\n",
    "\n",
    "# Train and evaluate each classifier\n",
    "for clf_name, clf in classifiers.items():\n",
    "    clf.fit(X_train, y_train)\n",
    "    y_pred = clf.predict(X_test)\n",
    "    accuracy = accuracy_score(y_test, y_pred)\n",
    "    print(f'Accuracy for {clf_name}: {accuracy}')\n",
    "    #print(f\"confusion_matrix {clf_name}: {confusion_matrix(y_test,y_pred)}\")"
   ]
  },
  {
   "cell_type": "code",
   "execution_count": 26,
   "id": "ca569dd8-7ca8-4af9-baa7-0d349462fb5e",
   "metadata": {},
   "outputs": [
    {
     "data": {
      "text/plain": [
       "array([15, 15, 15, 13, 14, 17, 16,  2,  0, 14, 13, 12, 16, 23, 20,  5,  6,\n",
       "        4, 10,  9, 19,  1, 10, 23, 23,  6, 22, 22,  2, 12, 18,  1,  8, 24,\n",
       "       11, 23,  7, 12, 24,  8, 18,  6,  8, 19, 24, 23, 21,  1, 15,  4, 15,\n",
       "       22, 11,  5, 15, 13,  1, 19,  5, 12, 22, 22, 20, 24, 21, 18, 12, 10,\n",
       "       10, 20, 10,  8,  9, 21, 17, 21,  0, 17, 16, 14, 15, 11, 11,  8, 20,\n",
       "        3, 19,  8,  0,  2,  9, 10,  2, 23, 20, 20, 23, 12, 18, 12,  7, 16,\n",
       "        8, 14, 18,  3, 14, 19, 14, 14, 15, 18,  8,  2, 21, 18, 23, 10, 23,\n",
       "        5, 11, 15, 12,  3,  5,  3,  7, 12, 19,  8, 20, 19,  3, 15,  9, 19,\n",
       "        1, 23, 21,  5, 20, 15, 16,  7,  7,  8, 15, 18,  1, 15, 13, 20,  7,\n",
       "        4, 18, 11,  5, 15,  5, 12,  9, 22, 18, 21,  8, 23,  4, 12, 24, 16,\n",
       "       15, 22,  8, 22,  3, 16, 23, 23, 12,  7, 16, 18,  5,  3, 18,  8, 23,\n",
       "       23, 20,  6,  6,  7, 23])"
      ]
     },
     "execution_count": 26,
     "metadata": {},
     "output_type": "execute_result"
    }
   ],
   "source": [
    "y_pred"
   ]
  },
  {
   "cell_type": "code",
   "execution_count": 40,
   "id": "671b52ad-930f-4ac8-9ff0-fe8efaef71da",
   "metadata": {},
   "outputs": [
    {
     "data": {
      "text/plain": [
       "0.9844559585492227"
      ]
     },
     "execution_count": 40,
     "metadata": {},
     "output_type": "execute_result"
    }
   ],
   "source": [
    "accuracy_score(y_test,y_pred)"
   ]
  },
  {
   "cell_type": "code",
   "execution_count": 44,
   "id": "ec0714bc-ef51-4afc-866d-b4b88d9fe8a5",
   "metadata": {},
   "outputs": [],
   "source": [
    "my_resume=\"\"\"\n",
    "HCLTech| Software Engineer(2.10 years) | Noida\n",
    " Jan’22- Present\n",
    " ● Developedandimplemented machine learning algorithms for dynamic resource allocation, optimization, and network slicing\n",
    " in Keysight 5G networks (achieving 40% higher throughput and 20% lower latency).\n",
    " ● 5GNetworkLogs:usedNLPtechniques to parse and interpret network logs to identify patterns, anomalies, and potential\n",
    " security threats. This can help automate troubleshooting and improve network security.\n",
    " ● Analyzednetworkconditions and user demands to improve resource allocation strategies.\n",
    " ● Preprocessed data, engineered features, and handled missing values for model training.\n",
    " CETPA InfoTech| Machine Learning Intern| Noida\n",
    " ● workedonaprojectforcustomersegmentation.\n",
    " ● Visualizedgenderandagedistributionandthenanalyzedtheirincomeandspendingscores.\n",
    " ● K-meansclustering,hierarchicalclustering, andDBSCANclusteringwereused.\n",
    " IIT KHARAGPUR| Machine Learning Training| Virtual\n",
    " ● Appliedmachinelearning principles to real-world problems through hands-on projects.\n",
    " ● Utilized popular machine learning libraries, including scikit-learn.\n",
    " ● Collaborated with peers and expert instructors to deepen understanding of machine learning concepts.\n",
    " Projects | Academic project\n",
    " Jul’21- Dec’21\n",
    " May’20- Jul’20\n",
    " Age-Gender Recognition Model\n",
    " Python, TensorFlow, Keras, CNN, Matplotlib, sci-kit-learn\n",
    " ● 1.Classified Age into 9 Categories with an accuracy of 75.1% and 1-off accuracy of 91.9%.\n",
    " ● 2.Classified Gender in 2 Categories with an accuracy of 92.9%, it used VGG-16 CNN architecture as the backbone.\n",
    " ● 3.DeployedontheMallCCTVcamerasystem, impacting the sales and marketing industry, and 1000’s indirectly\n",
    " Covid-19 Test Classification | github\n",
    " Jan’22\n",
    " May’20\n",
    " Machine Learning, Python\n",
    " ● Developedamachinelearning model using logistic regression to classify COVID-19 infections based on patient symptoms.\n",
    " ● UsedtheLogistic Regression ML algorithm. Achieved 98% accuracy in classifying COVID-19 infections.\n",
    " Apple Stock Price Prediction and Forecasting\n",
    " Python, Machine Learning & Deep Learning\n",
    " Mar’20\n",
    " ● GotthedatafromTingoAPI. Created a stacked LSTM RNN model to predict the company's stock price for the next 30 days by\n",
    " providing a time step of the previous 100 days. Got a test RMSE equal to 239.6.\n",
    " Education\n",
    " Moradabad Institute of Technology(MIT), UP, India\n",
    " B.Tech Computer Science & Engineering, CGPA: 8.5/10\n",
    " Coursework: Python, C, Machine Learning, Mathematics, Data Structure, Algorithms, Computer Network\n",
    " Skills\n",
    " May’18- Jul’22\n",
    " ● ProgrammingLanguages:Python(expert),C(basic),C++(basic)\n",
    " ● DataScienceLibraries:NumPy,Pandas,Scikit-learn,TensorFlow,Pytorch(basic), Keras\n",
    " ● MachineLearning:Regression,Classification,Clustering, regression, Instance-based learning, Decision trees, Bayesian statistics,\n",
    " clustering, neural, networks, ensemble methods, Deep Learning (CNNs, RNNs, LSTMs), Reinforcement Learning\n",
    " ● LargeLanguageModels(LLMs):Familiarwitharchitectures,capabilities, and limitations of LLMs, e.g., GPT-3, Llama 2,\n",
    " ● Frameworks:TensorFlow,NLTK,Scikit-learn\n",
    " ● DataHandling:Datacleaning,normalization,featureengineering, missing value imputation\n",
    " Certification\n",
    " ● Machinelearning certification from IBM\n",
    " ● Machinelearning certification from IIT Kharagpur\n",
    " ● Pythonprogrammingcertification from IIT Kanpur\n",
    " ● Tensorflowcertification from Coursera\n",
    "\"\"\""
   ]
  },
  {
   "cell_type": "code",
   "execution_count": 47,
   "id": "75c21908-e545-4d3c-9909-a4ad577d3c12",
   "metadata": {},
   "outputs": [
    {
     "data": {
      "text/plain": [
       "6"
      ]
     },
     "execution_count": 47,
     "metadata": {},
     "output_type": "execute_result"
    }
   ],
   "source": [
    "pred_resume_id"
   ]
  },
  {
   "cell_type": "code",
   "execution_count": 48,
   "id": "af1eff28-13c7-4f3f-858d-53cc55ce4130",
   "metadata": {},
   "outputs": [
    {
     "data": {
      "text/plain": [
       "array([ 6, 12,  0,  1, 24, 16, 22, 14,  5, 15,  4, 21,  2, 11, 18, 20,  8,\n",
       "       17, 19,  7, 13, 10,  9,  3, 23])"
      ]
     },
     "execution_count": 48,
     "metadata": {},
     "output_type": "execute_result"
    }
   ],
   "source": [
    "df['Category'].unique()"
   ]
  },
  {
   "cell_type": "code",
   "execution_count": null,
   "id": "1eada853-c4cd-4b43-8a92-931f46597aa6",
   "metadata": {},
   "outputs": [],
   "source": []
  },
  {
   "cell_type": "code",
   "execution_count": 66,
   "id": "e55ee045-0dd5-4311-a0c3-9cdf20291c5a",
   "metadata": {},
   "outputs": [
    {
     "name": "stdout",
     "output_type": "stream",
     "text": [
      "The job title at index 6 is: Data Science\n"
     ]
    }
   ],
   "source": [
    "job_titles = ['Data Science', 'HR', 'Advocate', 'Arts', 'Web Designing',\n",
    "              'Mechanical Engineer', 'Sales', 'Health and fitness',\n",
    "              'Civil Engineer', 'Java Developer', 'Business Analyst',\n",
    "              'SAP Developer', 'Automation Testing', 'Electrical Engineering',\n",
    "              'Operations Manager', 'Python Developer', 'DevOps Engineer',\n",
    "              'Network Security Engineer', 'PMO', 'Database', 'Hadoop',\n",
    "              'ETL Developer', 'DotNet Developer', 'Blockchain', 'Testing']\n",
    "\n",
    "indices = [6, 12, 0, 1, 24, 16, 22, 14, 5, 15, 4, 21, 2, 11, 18, 20, 8, 17, 19, 7, 13, 10, 9, 3, 23]\n",
    "\n",
    "# Create a dictionary to map indices to job titles\n",
    "index_to_job_title = {index: job_title for index, job_title in zip(indices, job_titles)}\n",
    "\n",
    "# Example: Map index 16 to its job title\n",
    "index = pred_resume_id\n",
    "job_title = index_to_job_title.get(index, \"Job title not found\")  # Get the job title or return a default message\n",
    "print(f\"The job title at index {index} is: {job_title}\")"
   ]
  },
  {
   "cell_type": "code",
   "execution_count": null,
   "id": "5a3204a1-3720-4897-b8c3-849da5a9bbe6",
   "metadata": {},
   "outputs": [],
   "source": [
    "#want to save model then this code \n",
    "\n",
    "\n",
    "\"\"\"\n",
    "import pickle\n",
    "\n",
    "pickle.dump(tfidf,open('tfidf.pkl','wb'))\n",
    "pickle.dump(clf,open('clf.pkl','wb'))\n",
    "\n",
    "\n",
    "\n",
    "clf=pickle.load(open('clf.pkl','rb'))\n",
    "tfidf=pickle.load(open('tfidf.pkl','rb'))\n",
    "\n",
    "\n",
    "clean_resume=preprocess_text(my_resume)\n",
    "\n",
    "#transform the cleaned resume into vector using tfidf method \n",
    "\n",
    "input_features=tfidf.transform([clean_resume])\n",
    "\n",
    "#make prediction\n",
    "\n",
    "pred_resume_id=clf.predict(input_features)[0]\n",
    "\n",
    "\"\"\""
   ]
  }
 ],
 "metadata": {
  "kernelspec": {
   "display_name": "Tensorflow GPU",
   "language": "python",
   "name": "tensorflow-gpu"
  },
  "language_info": {
   "codemirror_mode": {
    "name": "ipython",
    "version": 3
   },
   "file_extension": ".py",
   "mimetype": "text/x-python",
   "name": "python",
   "nbconvert_exporter": "python",
   "pygments_lexer": "ipython3",
   "version": "3.11.9"
  }
 },
 "nbformat": 4,
 "nbformat_minor": 5
}
